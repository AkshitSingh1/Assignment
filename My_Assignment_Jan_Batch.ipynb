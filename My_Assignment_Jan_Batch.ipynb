{
  "nbformat": 4,
  "nbformat_minor": 0,
  "metadata": {
    "colab": {
      "provenance": []
    },
    "kernelspec": {
      "name": "python3",
      "display_name": "Python 3"
    },
    "language_info": {
      "name": "python"
    }
  },
  "cells": [
    {
      "cell_type": "code",
      "execution_count": null,
      "metadata": {
        "colab": {
          "base_uri": "https://localhost:8080/"
        },
        "id": "JLRzvUoW8fp7",
        "outputId": "3177cf78-8856-4f4e-88e9-878e5738ff28"
      },
      "outputs": [
        {
          "output_type": "stream",
          "name": "stdout",
          "text": [
            "['I', 'Am', 'learning', 'Machine', 'Learning', 'at', 'technook']\n"
          ]
        }
      ],
      "source": [
        "#Assingment 1- 2 EXAMPLES OF COLLECTIVE DATA TYPES\n",
        "\n",
        "#LIST\n",
        "\n",
        "mylist=[\"I\",\"Am\",\"learning\",\"Machine\",\"Learning\",\"at\",\"technook\"]\n",
        "print(mylist)"
      ]
    },
    {
      "cell_type": "code",
      "source": [
        "mylist[0]=\"We\"\n",
        "mylist[1]=\"Are\"\n",
        "print(mylist)"
      ],
      "metadata": {
        "colab": {
          "base_uri": "https://localhost:8080/"
        },
        "id": "UDUXygqoAJyD",
        "outputId": "22a153f9-f4d2-4c6f-e676-f9d5e8b8d840"
      },
      "execution_count": null,
      "outputs": [
        {
          "output_type": "stream",
          "name": "stdout",
          "text": [
            "['We', 'Are', 'learning', 'Machine', 'Learning', 'at', 'technook']\n"
          ]
        }
      ]
    },
    {
      "cell_type": "code",
      "source": [
        "mylist.append(\".Thank You\")\n",
        "print(mylist)"
      ],
      "metadata": {
        "colab": {
          "base_uri": "https://localhost:8080/"
        },
        "id": "6adgA4RdASni",
        "outputId": "0f16c1a0-47e4-460e-e13b-8de772faa1ba"
      },
      "execution_count": null,
      "outputs": [
        {
          "output_type": "stream",
          "name": "stdout",
          "text": [
            "['We', 'Are', 'learning', 'Machine', 'Learning', 'at', 'technook', '.Thank You']\n"
          ]
        }
      ]
    },
    {
      "cell_type": "code",
      "source": [
        "#TUPLE - unmutable,unordered, hence no indexing\n",
        "\n",
        "mytup={\"I\",\"Love\",2,\"Learn\",\"python\",True}\n",
        "print(mytup)"
      ],
      "metadata": {
        "colab": {
          "base_uri": "https://localhost:8080/"
        },
        "id": "QXJ6VkRWAzlE",
        "outputId": "f85b79b3-518e-43cb-82f3-375da2c285e0"
      },
      "execution_count": null,
      "outputs": [
        {
          "output_type": "stream",
          "name": "stdout",
          "text": [
            "{True, 2, 'python', 'Learn', 'I', 'Love'}\n"
          ]
        }
      ]
    },
    {
      "cell_type": "code",
      "source": [
        "len(mytup)"
      ],
      "metadata": {
        "colab": {
          "base_uri": "https://localhost:8080/"
        },
        "id": "mLFbIltXBGy_",
        "outputId": "4b9cc287-13fa-4cc9-81e7-b65a425c788f"
      },
      "execution_count": null,
      "outputs": [
        {
          "output_type": "execute_result",
          "data": {
            "text/plain": [
              "5"
            ]
          },
          "metadata": {},
          "execution_count": 11
        }
      ]
    },
    {
      "cell_type": "code",
      "source": [
        "newtupple={\"1\",\"2\",\"3\",\"4\",\"5\",\"6\"}\n",
        "print(newtupple)\n",
        "print(f\"Length of the Tupple: {len(newtupple)}\")"
      ],
      "metadata": {
        "colab": {
          "base_uri": "https://localhost:8080/"
        },
        "id": "zrrjqhA0BMD1",
        "outputId": "4357f4a7-8a21-4709-e471-142497aa1c71"
      },
      "execution_count": null,
      "outputs": [
        {
          "output_type": "stream",
          "name": "stdout",
          "text": [
            "{'1', '6', '4', '2', '5', '3'}\n",
            "Length of the Tupple:6\n"
          ]
        }
      ]
    },
    {
      "cell_type": "code",
      "source": [
        "\n",
        "#Dictionary\n",
        "\n",
        "mydict={\"ID\":\"Hello\",\"password\":\"1234\",\"address\":\"London\",\"Year\":\"2023\"}\n",
        "print(mydict)"
      ],
      "metadata": {
        "colab": {
          "base_uri": "https://localhost:8080/"
        },
        "id": "88DoxJy3BVCn",
        "outputId": "0dd64aee-65b0-48b9-fc51-6188dcc105e5"
      },
      "execution_count": null,
      "outputs": [
        {
          "output_type": "stream",
          "name": "stdout",
          "text": [
            "{'ID': 'Hello', 'password': '1234', 'address': 'London', 'Year': '2023'}\n"
          ]
        }
      ]
    },
    {
      "cell_type": "code",
      "source": [
        "mydict[\"ID\"]=(\"Hello\",\"World\")\n",
        "mydict[\"password\"]=(\"admin123\")\n",
        "mydict[\"address\"]=(\"Kolkata\")\n",
        "mydict[\"Year\"]=(\"2024\",\"2025\")\n",
        "\n",
        "print(mydict)"
      ],
      "metadata": {
        "colab": {
          "base_uri": "https://localhost:8080/"
        },
        "id": "KXjt30giCl_V",
        "outputId": "957489f9-cd04-4927-f1c5-8a13a3a84322"
      },
      "execution_count": null,
      "outputs": [
        {
          "output_type": "stream",
          "name": "stdout",
          "text": [
            "{'ID': ('Hello', 'World'), 'address': 'Kolkata', 'Year': ('2024', '2025'), 'password': 'admin123'}\n"
          ]
        }
      ]
    },
    {
      "cell_type": "code",
      "source": [
        "del(mydict[\"password\"])\n",
        "print(mydict)"
      ],
      "metadata": {
        "colab": {
          "base_uri": "https://localhost:8080/"
        },
        "id": "PS717roSC3HJ",
        "outputId": "dc022a6e-8919-4257-8a77-f6a1cbff37f2"
      },
      "execution_count": null,
      "outputs": [
        {
          "output_type": "stream",
          "name": "stdout",
          "text": [
            "{'ID': ('Hello', 'World'), 'address': 'Kolkata', 'Year': ('2024', '2025')}\n"
          ]
        }
      ]
    },
    {
      "cell_type": "code",
      "source": [
        "mydict[\"password\"]=(\"You\",\"know\")\n",
        "print(mydict)"
      ],
      "metadata": {
        "colab": {
          "base_uri": "https://localhost:8080/"
        },
        "id": "9Nrewx8aDjm7",
        "outputId": "a1465fa1-3107-47ef-d2c7-df2207b6d569"
      },
      "execution_count": null,
      "outputs": [
        {
          "output_type": "stream",
          "name": "stdout",
          "text": [
            "{'ID': ('Hello', 'World'), 'address': 'Kolkata', 'Year': ('2024', '2025'), 'password': ('You', 'know')}\n"
          ]
        }
      ]
    },
    {
      "cell_type": "code",
      "source": [
        "\n",
        "#SET - we can change the data\n",
        "myset={\"hello\",\"world\",1,2,2023}\n",
        "print(myset)"
      ],
      "metadata": {
        "colab": {
          "base_uri": "https://localhost:8080/"
        },
        "id": "M6zTuvxOD1_P",
        "outputId": "ae21993a-2b83-49b5-e4fe-3da93e524c15"
      },
      "execution_count": null,
      "outputs": [
        {
          "output_type": "stream",
          "name": "stdout",
          "text": [
            "{1, 2, 2023, 'hello', 'world'}\n"
          ]
        }
      ]
    },
    {
      "cell_type": "code",
      "source": [
        "newset={1,2,3,4,5,6}\n",
        "newset2={6,7,8,9,10,11}\n",
        "print(len(newset))\n",
        "print(len(newset2))"
      ],
      "metadata": {
        "colab": {
          "base_uri": "https://localhost:8080/"
        },
        "id": "we3drIrdENuB",
        "outputId": "67ca9b9e-731a-4833-f703-306111604b7b"
      },
      "execution_count": null,
      "outputs": [
        {
          "output_type": "stream",
          "name": "stdout",
          "text": [
            "6\n",
            "5\n"
          ]
        }
      ]
    },
    {
      "cell_type": "code",
      "source": [
        "set3=newset.union(newset2)#combine data from set and remove duplicate occurence\n",
        "print(set3)"
      ],
      "metadata": {
        "colab": {
          "base_uri": "https://localhost:8080/"
        },
        "id": "jKpMoFQVEf-p",
        "outputId": "af1c7ca6-e8c1-459a-f7bf-8ed62f36b3c6"
      },
      "execution_count": null,
      "outputs": [
        {
          "output_type": "stream",
          "name": "stdout",
          "text": [
            "{1, 2, 3, 4, 5, 6, 8, 9, 10, 11}\n"
          ]
        }
      ]
    },
    {
      "cell_type": "code",
      "source": [
        "set4=newset|newset2#union symbol\n",
        "print(set4)"
      ],
      "metadata": {
        "colab": {
          "base_uri": "https://localhost:8080/"
        },
        "id": "ITYHdTZzEn8o",
        "outputId": "333b9189-7a89-40f3-ed28-ca1dbfbe608d"
      },
      "execution_count": null,
      "outputs": [
        {
          "output_type": "stream",
          "name": "stdout",
          "text": [
            "{1, 2, 3, 4, 5, 6, 8, 9, 10, 11}\n"
          ]
        }
      ]
    },
    {
      "cell_type": "code",
      "source": [
        "set5=newset.intersection(newset2)#common term\n",
        "print(set5)"
      ],
      "metadata": {
        "colab": {
          "base_uri": "https://localhost:8080/"
        },
        "id": "dSXBFkh2TzxD",
        "outputId": "2785c758-2def-4c52-ed4b-c9a20ac15566"
      },
      "execution_count": null,
      "outputs": [
        {
          "output_type": "stream",
          "name": "stdout",
          "text": [
            "{6}\n"
          ]
        }
      ]
    },
    {
      "cell_type": "code",
      "source": [
        "set4.add(\"Damn\")\n",
        "print(set4)"
      ],
      "metadata": {
        "colab": {
          "base_uri": "https://localhost:8080/"
        },
        "id": "DgxkKKb3E527",
        "outputId": "a559bed5-66f3-4308-9b58-0632fb67a72f"
      },
      "execution_count": null,
      "outputs": [
        {
          "output_type": "stream",
          "name": "stdout",
          "text": [
            "{1, 2, 3, 4, 5, 6, 8, 9, 10, 11, 'Damn'}\n"
          ]
        }
      ]
    },
    {
      "cell_type": "code",
      "source": [
        "\n",
        "\n",
        "#ASSIGNMENT 2 -FILE READ,WRITE,APPEND\n",
        "\n",
        "file=open(\"s.txt\",\"w\")\n",
        "file.write(\"Hey there i am learning python\")"
      ],
      "metadata": {
        "colab": {
          "base_uri": "https://localhost:8080/"
        },
        "id": "86drgDnWE-va",
        "outputId": "3136f5aa-f947-4a50-f48d-a5e693301096"
      },
      "execution_count": null,
      "outputs": [
        {
          "output_type": "execute_result",
          "data": {
            "text/plain": [
              "30"
            ]
          },
          "metadata": {},
          "execution_count": 51
        }
      ]
    },
    {
      "cell_type": "code",
      "source": [
        "file=open(\"s.txt\",\"r\")\n",
        "print(file.read())"
      ],
      "metadata": {
        "colab": {
          "base_uri": "https://localhost:8080/"
        },
        "id": "oJGmLe8RFa7n",
        "outputId": "eaabb4b3-2e91-406a-f097-5520d89e1158"
      },
      "execution_count": null,
      "outputs": [
        {
          "output_type": "stream",
          "name": "stdout",
          "text": [
            "Hey there i am learning python\n"
          ]
        }
      ]
    },
    {
      "cell_type": "code",
      "source": [
        "file=open(\"s.txt\",\"a\")\n",
        "file.write(\"\\nPython is quite easy to learn\")"
      ],
      "metadata": {
        "colab": {
          "base_uri": "https://localhost:8080/"
        },
        "id": "o9aGZQ_XGHPn",
        "outputId": "043f943e-befa-40c8-d5bf-25dcef1caefb"
      },
      "execution_count": null,
      "outputs": [
        {
          "output_type": "execute_result",
          "data": {
            "text/plain": [
              "30"
            ]
          },
          "metadata": {},
          "execution_count": 54
        }
      ]
    },
    {
      "cell_type": "code",
      "source": [
        "file=open(\"s.txt\",\"r\")\n",
        "print(file.read())"
      ],
      "metadata": {
        "colab": {
          "base_uri": "https://localhost:8080/"
        },
        "id": "uked4XsQGeZV",
        "outputId": "c5c85025-21ef-4a52-f5bf-24d0de4831e1"
      },
      "execution_count": null,
      "outputs": [
        {
          "output_type": "stream",
          "name": "stdout",
          "text": [
            "Hey there i am learning python\n",
            "Python is quite easy to learn\n"
          ]
        }
      ]
    },
    {
      "cell_type": "code",
      "source": [
        "file=open(\"new.txt\",\"w\")\n",
        "file.write(\"Python has many library for smoother workflow\")"
      ],
      "metadata": {
        "colab": {
          "base_uri": "https://localhost:8080/"
        },
        "id": "hf-UTwcgGm50",
        "outputId": "9496e4b0-9556-4cf4-ecac-c2c846cfffc8"
      },
      "execution_count": null,
      "outputs": [
        {
          "output_type": "execute_result",
          "data": {
            "text/plain": [
              "45"
            ]
          },
          "metadata": {},
          "execution_count": 58
        }
      ]
    },
    {
      "cell_type": "code",
      "source": [
        "file=open(\"new.txt\",\"a\")\n",
        "file.write(\"\\nEg. os,flask,tensorflow,pygames,etc.\")"
      ],
      "metadata": {
        "colab": {
          "base_uri": "https://localhost:8080/"
        },
        "id": "rvUMZlTfHmRI",
        "outputId": "0db13e1c-deaa-49a2-8ecc-3be64cb44f3b"
      },
      "execution_count": null,
      "outputs": [
        {
          "output_type": "execute_result",
          "data": {
            "text/plain": [
              "37"
            ]
          },
          "metadata": {},
          "execution_count": 62
        }
      ]
    },
    {
      "cell_type": "code",
      "source": [
        "file=open(\"new.txt\",\"r\")\n",
        "print(file.read())"
      ],
      "metadata": {
        "colab": {
          "base_uri": "https://localhost:8080/"
        },
        "id": "zYjdypdzH715",
        "outputId": "71e79033-4c7c-4734-a8b2-5547a5377e92"
      },
      "execution_count": null,
      "outputs": [
        {
          "output_type": "stream",
          "name": "stdout",
          "text": [
            "Python has many library for smoother workflow Eg. os,flask,tensorflow,pygames,etc.\n"
          ]
        }
      ]
    },
    {
      "cell_type": "code",
      "source": [],
      "metadata": {
        "id": "T6LR0tZjH8_l"
      },
      "execution_count": null,
      "outputs": []
    }
  ]
}